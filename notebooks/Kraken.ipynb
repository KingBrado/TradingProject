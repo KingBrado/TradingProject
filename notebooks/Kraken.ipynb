{
 "cells": [
  {
   "cell_type": "code",
   "execution_count": null,
   "id": "7ad1d9d3-8293-42d2-9e87-584484e8e6f8",
   "metadata": {},
   "outputs": [],
   "source": [
    "from dotenv import load_dotenv\n",
    "import os\n",
    "import requests\n",
    "import json\n",
    "from time import sleep\n",
    "import datetime"
   ]
  },
  {
   "cell_type": "code",
   "execution_count": null,
   "id": "f3fee3c1-b2d0-4684-a247-94602c93fddd",
   "metadata": {},
   "outputs": [],
   "source": [
    "load_dotenv('../.env')"
   ]
  },
  {
   "cell_type": "code",
   "execution_count": null,
   "id": "c0272e26-82f4-49d6-833a-ef4ef89d7d29",
   "metadata": {},
   "outputs": [],
   "source": [
    "import requests\n",
    "\n",
    "url = \"https://api.kraken.com/0/public/Time\"\n",
    "\n",
    "payload = {}\n",
    "headers = {\n",
    "  'Accept': 'application/json'\n",
    "}\n",
    "\n",
    "response = requests.request(\"GET\", url, headers=headers, data=payload)"
   ]
  },
  {
   "cell_type": "code",
   "execution_count": null,
   "id": "336c7696-fa63-4095-abf2-ef916f461b58",
   "metadata": {},
   "outputs": [],
   "source": [
    "eval(response.text)['result']"
   ]
  },
  {
   "cell_type": "code",
   "execution_count": null,
   "id": "b0afef3b-20b1-4749-9e05-7e63e658c515",
   "metadata": {},
   "outputs": [],
   "source": [
    "eval(response.text)['result']"
   ]
  },
  {
   "cell_type": "code",
   "execution_count": null,
   "id": "de5d0b25-8148-4104-9ad1-d93a066dcb8e",
   "metadata": {},
   "outputs": [],
   "source": [
    "url = \"https://api.kraken.com/0/public/AssetPairs\"\n",
    "\n",
    "payload = {}\n",
    "headers = {\n",
    "  'Accept': 'application/json'\n",
    "}\n",
    "\n",
    "response = requests.request(\"GET\", url, headers=headers, data=payload)"
   ]
  },
  {
   "cell_type": "code",
   "execution_count": null,
   "id": "dc83bd8c-a345-4503-8d74-bc381aecff05",
   "metadata": {},
   "outputs": [],
   "source": [
    "results = eval(response.text)['result']"
   ]
  },
  {
   "cell_type": "code",
   "execution_count": null,
   "id": "eb836e89-3db1-4797-b519-d0a692e19223",
   "metadata": {},
   "outputs": [],
   "source": [
    "url = \"https://api.kraken.com/0/public/Assets\"\n",
    "\n",
    "payload = {}\n",
    "headers = {\n",
    "  'Accept': 'application/json'\n",
    "}\n",
    "\n",
    "response = requests.request(\"GET\", url, headers=headers, data=payload)"
   ]
  },
  {
   "cell_type": "code",
   "execution_count": null,
   "id": "1adc8458-09bb-4b4f-85a4-74015a957092",
   "metadata": {},
   "outputs": [],
   "source": [
    "results = eval(response.text)['result']"
   ]
  },
  {
   "cell_type": "code",
   "execution_count": null,
   "id": "c31c5595-4107-40db-b3fd-40b95f79ef37",
   "metadata": {},
   "outputs": [],
   "source": [
    "url = \"https://api.kraken.com/0/public/Ticker\"\n",
    "\n",
    "payload = {}\n",
    "headers = {\n",
    "  'Accept': 'application/json'\n",
    "}\n",
    "\n",
    "data = []\n",
    "for i in range(10):\n",
    "    response = requests.request(\"GET\", url, headers=headers, data=payload, params={'pair': 'BTCUSD'})\n",
    "    data.append(eval(response.text)['result'])\n",
    "    sleep(10)"
   ]
  },
  {
   "cell_type": "code",
   "execution_count": null,
   "id": "5b69e6b1-ec79-45de-9296-1c768929597b",
   "metadata": {},
   "outputs": [],
   "source": [
    "import numpy as np\n",
    "import pandas as pd"
   ]
  },
  {
   "cell_type": "code",
   "execution_count": null,
   "id": "7ea8fe30-2b32-43aa-b336-862a1e1108c1",
   "metadata": {},
   "outputs": [],
   "source": [
    "url = \"https://api.kraken.com/0/public/Spread\"\n",
    "\n",
    "payload = {}\n",
    "headers = {\n",
    "  'Accept': 'application/json'\n",
    "}\n",
    "\n",
    "dt = datetime.datetime(2024, 11, 24, 22, 00).timestamp()\n",
    "\n",
    "response = requests.request(\"GET\", url, headers=headers, data=payload, params={'pair': 'XXBTZUSD', 'since': dt})"
   ]
  },
  {
   "cell_type": "code",
   "execution_count": null,
   "id": "1776d5fe-6427-42d3-b33e-f4d93d3e96e2",
   "metadata": {},
   "outputs": [],
   "source": [
    "data = eval(response.text)['result']"
   ]
  },
  {
   "cell_type": "code",
   "execution_count": null,
   "id": "532b8d7b-c646-436a-b17a-886d6da3abb7",
   "metadata": {},
   "outputs": [],
   "source": [
    "v = [[int(time), float(a), float(b)] for time, a, b in data['XXBTZUSD']]"
   ]
  },
  {
   "cell_type": "code",
   "execution_count": null,
   "id": "402515ef-a39c-4423-9adb-feeb7eb0ac7c",
   "metadata": {},
   "outputs": [],
   "source": [
    "df = pd.DataFrame(data=v, columns=['Time', 'Ask', 'Bid']).set_index('Time')\n",
    "df['Spread'] = df['Bid'] - df['Ask'] "
   ]
  },
  {
   "cell_type": "code",
   "execution_count": null,
   "id": "70f0317a-4ece-4f7f-998b-398ee43191e8",
   "metadata": {},
   "outputs": [],
   "source": [
    "df.index[-1] - df.index[0]"
   ]
  },
  {
   "cell_type": "code",
   "execution_count": null,
   "id": "d03fec01-c5d2-4b2f-a463-d31aebc059e3",
   "metadata": {},
   "outputs": [],
   "source": [
    "response.text"
   ]
  },
  {
   "cell_type": "code",
   "execution_count": null,
   "id": "f1f3c4fc-d7d7-46b9-ae8b-671400a03b4b",
   "metadata": {},
   "outputs": [],
   "source": [
    "url = \"https://api.kraken.com/0/public/Spread\"\n",
    "\n",
    "payload = {}\n",
    "headers = {\n",
    "  'Accept': 'application/json'\n",
    "}\n",
    "\n",
    "dt = datetime.datetime(2024, 11, 24, 22, 00).timestamp()\n",
    "\n",
    "response = requests.request(\"GET\", url, headers=headers, data=payload, params={'pair': 'XXBTZUSD', 'since': dt})"
   ]
  },
  {
   "cell_type": "code",
   "execution_count": null,
   "id": "ae2fc3b6-8c6b-4557-a877-13d2e56103ef",
   "metadata": {},
   "outputs": [],
   "source": [
    "data = eval(response.text)['result']"
   ]
  },
  {
   "cell_type": "code",
   "execution_count": null,
   "id": "13e0cf9a-38c8-41e5-96ae-7afcb562eede",
   "metadata": {},
   "outputs": [],
   "source": [
    "values = data.values()"
   ]
  },
  {
   "cell_type": "code",
   "execution_count": null,
   "id": "91917023-0c2e-468a-a8e8-905e73cde8c3",
   "metadata": {},
   "outputs": [],
   "source": [
    "import yfinance as yf"
   ]
  },
  {
   "cell_type": "code",
   "execution_count": null,
   "id": "7e80a53d-182a-47b7-be5e-9cb9fa94a7f2",
   "metadata": {},
   "outputs": [],
   "source": [
    "yf.download('BTC-USD', interval='5m', period='1d')"
   ]
  },
  {
   "cell_type": "code",
   "execution_count": null,
   "id": "a03b6ec9-7a7f-4a6b-b080-9e6922ac90b9",
   "metadata": {},
   "outputs": [],
   "source": []
  },
  {
   "cell_type": "code",
   "execution_count": null,
   "id": "f469c493-5ce6-42d9-a638-3cd3e23d57e6",
   "metadata": {},
   "outputs": [],
   "source": []
  }
 ],
 "metadata": {
  "kernelspec": {
   "display_name": "Python 3 (ipykernel)",
   "language": "python",
   "name": "python3"
  },
  "language_info": {
   "codemirror_mode": {
    "name": "ipython",
    "version": 3
   },
   "file_extension": ".py",
   "mimetype": "text/x-python",
   "name": "python",
   "nbconvert_exporter": "python",
   "pygments_lexer": "ipython3",
   "version": "3.12.7"
  }
 },
 "nbformat": 4,
 "nbformat_minor": 5
}

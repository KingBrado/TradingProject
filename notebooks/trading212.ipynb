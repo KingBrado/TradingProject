{
 "cells": [
  {
   "cell_type": "code",
   "execution_count": null,
   "id": "3c216862-ffd4-4e39-96e9-c7d984ddffbc",
   "metadata": {},
   "outputs": [],
   "source": [
    "from dotenv import load_dotenv"
   ]
  },
  {
   "cell_type": "code",
   "execution_count": null,
   "id": "9d8e5755-50d4-4e1d-ad7e-627eb839b550",
   "metadata": {},
   "outputs": [],
   "source": [
    "load_dotenv('../.env')"
   ]
  },
  {
   "cell_type": "code",
   "execution_count": null,
   "id": "104df069-53c5-4107-a618-202832aa61ed",
   "metadata": {},
   "outputs": [],
   "source": [
    "import os\n",
    "os.environ['TRADING_API_KEY']"
   ]
  },
  {
   "cell_type": "code",
   "execution_count": null,
   "id": "956a32b1-106f-49dc-af36-e25500117095",
   "metadata": {},
   "outputs": [],
   "source": [
    "import requests\n",
    "import pandas as pd\n",
    "from time import sleep, time\n",
    "from datetime import datetime"
   ]
  },
  {
   "cell_type": "markdown",
   "id": "319b7d17-f80f-42f2-9ae0-42f1b0d9eeb0",
   "metadata": {},
   "source": [
    "### Get Exchanges Metadata"
   ]
  },
  {
   "cell_type": "code",
   "execution_count": null,
   "id": "2cd71199-887f-4c48-9239-b2a9ac6a2985",
   "metadata": {},
   "outputs": [],
   "source": [
    "headers = {\"Authorization\": os.environ['TRADING_API_KEY']}"
   ]
  },
  {
   "cell_type": "code",
   "execution_count": null,
   "id": "562a1739-f9db-4a80-904a-0c228d5cc63c",
   "metadata": {},
   "outputs": [],
   "source": [
    "url = \"https://demo.trading212.com/api/v0/equity/metadata/exchanges\"\n",
    "response = requests.get(url, headers=headers)\n",
    "data = response.json()\n",
    "exchanges = pd.DataFrame(data)\n",
    "exchanges"
   ]
  },
  {
   "cell_type": "code",
   "execution_count": null,
   "id": "e2e5de7e-00ed-4cbe-b4aa-9ff249ff79bc",
   "metadata": {},
   "outputs": [],
   "source": [
    "exchanges.loc[0, 'workingSchedules']"
   ]
  },
  {
   "cell_type": "markdown",
   "id": "7b5e113c-07fd-4d7e-bbb9-2484ab63027e",
   "metadata": {},
   "source": [
    "### Get Instruments Metadata.\n",
    "Note: the endpoint can only be called every 50 seconds"
   ]
  },
  {
   "cell_type": "code",
   "execution_count": null,
   "id": "353b2009-bc61-4f4a-8e25-33acea250982",
   "metadata": {},
   "outputs": [],
   "source": [
    "end = None"
   ]
  },
  {
   "cell_type": "code",
   "execution_count": null,
   "id": "269079a5-14d1-4427-bfe7-119eabf112b0",
   "metadata": {},
   "outputs": [],
   "source": [
    "start = datetime.now()\n",
    "if end:\n",
    "    duration = (start - end).total_seconds()\n",
    "    if duration < 50:\n",
    "        print('Waiting until Trading212 is available again')\n",
    "        sleep(50 - (start- end).total_seconds())\n",
    "url = \"https://demo.trading212.com/api/v0/equity/metadata/instruments\"\n",
    "response = requests.get(url, headers=headers)\n",
    "end = datetime.now()\n",
    "data = response.json()\n",
    "instruments = pd.DataFrame(data)\n",
    "instruments"
   ]
  },
  {
   "cell_type": "markdown",
   "id": "5f6163e9-ba12-40d2-a564-25cbd6a53a2a",
   "metadata": {},
   "source": [
    "### Execute Market Order"
   ]
  },
  {
   "cell_type": "code",
   "execution_count": null,
   "id": "cffd7d37-4da2-4836-8b12-66f10603fb21",
   "metadata": {},
   "outputs": [],
   "source": [
    "instruments[instruments.ticker.str.contains('AAPL')]"
   ]
  },
  {
   "cell_type": "code",
   "execution_count": null,
   "id": "9c071d4e-fa1b-48e1-a3a8-fbc83dbe2977",
   "metadata": {},
   "outputs": [],
   "source": [
    "url = \"https://demo.trading212.com/api/v0/equity/orders/market\"\n",
    "\n",
    "payload = {\n",
    "  \"quantity\": 0.1,\n",
    "  \"ticker\": \"AAPL_US_EQ\"\n",
    "}\n",
    "\n",
    "headers[\"Content-Type\"] = \"application/json\"\n",
    "\n",
    "response = requests.post(url, json=payload, headers=headers)\n",
    "\n",
    "data = response.json()\n",
    "print(data)"
   ]
  },
  {
   "cell_type": "markdown",
   "id": "e87f2bec-1fc3-4984-b7a9-343837579195",
   "metadata": {},
   "source": [
    "### Check order by ID"
   ]
  },
  {
   "cell_type": "code",
   "execution_count": null,
   "id": "5232ebff-9e88-4957-904b-7a86176832ff",
   "metadata": {},
   "outputs": [],
   "source": [
    "id = data['id']\n",
    "url = \"https://demo.trading212.com/api/v0/equity/orders/\" + str(id)\n",
    "response = requests.get(url, headers=headers)\n",
    "\n",
    "data = response.json()\n",
    "print(data)"
   ]
  },
  {
   "cell_type": "markdown",
   "id": "1198f818-539d-4d26-ac1f-59415c1caad0",
   "metadata": {},
   "source": [
    "### Cancel by ID"
   ]
  },
  {
   "cell_type": "code",
   "execution_count": null,
   "id": "b7d5a5ed-2b9f-4734-b4cc-b379acc99080",
   "metadata": {},
   "outputs": [],
   "source": [
    "del headers['Content-Type']"
   ]
  },
  {
   "cell_type": "code",
   "execution_count": null,
   "id": "936ef6ff-0e8e-4bd5-835f-abd10d0704c9",
   "metadata": {},
   "outputs": [],
   "source": [
    "url = \"https://demo.trading212.com/api/v0/equity/orders/\" + str(id)\n",
    "\n",
    "response = requests.delete(url, headers=headers)\n"
   ]
  },
  {
   "cell_type": "code",
   "execution_count": null,
   "id": "f8172e38-d461-4d50-acdc-1a3d67a0c383",
   "metadata": {},
   "outputs": [],
   "source": [
    "instruments.currencyCode.unique()"
   ]
  },
  {
   "cell_type": "markdown",
   "id": "2c1b182b-3aa4-4bc3-9a8f-116867f17b3b",
   "metadata": {},
   "source": [
    "### Historical Order Data"
   ]
  },
  {
   "cell_type": "code",
   "execution_count": null,
   "id": "3058794d-be19-4af1-b84d-3db9888db331",
   "metadata": {},
   "outputs": [],
   "source": [
    "url = \"https://demo.trading212.com/api/v0/equity/history/orders\"\n",
    "\n",
    "query = {\n",
    "  \"cursor\": \"0\",\n",
    "  \"ticker\": \"AAPL_US_EQ\",\n",
    "  \"limit\": \"20\"\n",
    "}\n",
    "\n",
    "response = requests.get(url, headers=headers, params=query)\n",
    "\n",
    "data = response.json()\n",
    "print(data)"
   ]
  },
  {
   "cell_type": "code",
   "execution_count": null,
   "id": "be71eb67-a299-40c4-afbc-d0204795a3ee",
   "metadata": {},
   "outputs": [],
   "source": [
    "for item in data['items']:\n",
    "    print(item)"
   ]
  },
  {
   "cell_type": "code",
   "execution_count": null,
   "id": "227d54bf-19fc-4181-8483-efffe1111b16",
   "metadata": {},
   "outputs": [],
   "source": []
  }
 ],
 "metadata": {
  "kernelspec": {
   "display_name": "Python 3 (ipykernel)",
   "language": "python",
   "name": "python3"
  },
  "language_info": {
   "codemirror_mode": {
    "name": "ipython",
    "version": 3
   },
   "file_extension": ".py",
   "mimetype": "text/x-python",
   "name": "python",
   "nbconvert_exporter": "python",
   "pygments_lexer": "ipython3",
   "version": "3.12.7"
  }
 },
 "nbformat": 4,
 "nbformat_minor": 5
}
